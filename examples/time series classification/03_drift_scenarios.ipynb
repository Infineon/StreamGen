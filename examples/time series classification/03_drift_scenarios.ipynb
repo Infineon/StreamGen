{
 "cells": [
  {
   "cell_type": "markdown",
   "metadata": {},
   "source": [
    "<h1 style=\"text-align: center;\">\n",
    "    📊 Data drift scenarios\n",
    "</h1>\n",
    "\n",
    "This notebook demonstrates how to simulate three different data drift scenarios with `streamgen`.\n",
    "\n",
    "> ✨ the sampling tree abstraction is general enough to simulate all drifts in one stream\n",
    "\n",
    "---\n",
    "\n",
    "## 📄 Table of Contents\n",
    "\n",
    "1. [📈 Covariate shift](#📈-covariate-shift)\n",
    "2. [📊 Prior probability shift](#📊-prior-probability-shift)\n",
    "3. [💡 Concept shift](#💡-concept-shift)"
   ]
  },
  {
   "cell_type": "code",
   "execution_count": 1,
   "metadata": {},
   "outputs": [],
   "source": [
    "import matplotlib.pyplot as plt\n",
    "import numpy as np\n",
    "import pandas as pd\n",
    "import seaborn as sns\n",
    "from IPython.display import HTML\n",
    "from matplotlib.animation import FuncAnimation\n",
    "\n",
    "from streamgen.parameter.store import ParameterStore\n",
    "from streamgen.samplers.tree import SamplingTree\n",
    "from streamgen.transforms import noop\n",
    "\n",
    "SEED=42\n",
    "rng = np.random.default_rng(SEED)\n",
    "\n",
    "\n",
    "# ➡️ transforms and generators\n",
    "def background(signal_, signal_length: int, offset: float, strength: float) -> np.ndarray:  # noqa: D103, ANN001, ARG001\n",
    "    return rng.normal(offset, strength, signal_length)\n",
    "\n",
    "def ramp(signal: np.ndarray, height: float, length: int) -> np.ndarray:  # noqa: D103\n",
    "    ramp_signal = np.zeros(len(signal))\n",
    "    ramp_start = rng.choice(range(len(signal)-length))\n",
    "    ramp_signal[ramp_start:ramp_start+length] = np.linspace(0.0, height, length)\n",
    "    return signal + ramp_signal\n",
    "\n",
    "def step(signal: np.ndarray, length: int, kernel_size: int) -> np.ndarray:  # noqa: D103\n",
    "    step_signal = np.zeros(len(signal))\n",
    "    step_start = rng.choice(range(len(signal)-length))\n",
    "    step_signal[step_start:step_start+length] = 1.0\n",
    "    kernel = np.ones(kernel_size) / kernel_size\n",
    "    step_signal = np.convolve(step_signal, kernel, mode=\"same\")\n",
    "    return signal + step_signal"
   ]
  },
  {
   "cell_type": "markdown",
   "metadata": {},
   "source": [
    "## 📈 Covariate shift\n",
    "\n",
    "![covariate shift](../../docs/images/covariate_shift.png)"
   ]
  },
  {
   "cell_type": "code",
   "execution_count": null,
   "metadata": {},
   "outputs": [],
   "source": []
  },
  {
   "cell_type": "markdown",
   "metadata": {},
   "source": [
    "## 📊 Prior probability shift\n",
    "\n",
    "![prior probability shift](../../docs/images/prior_probability_shift.png)"
   ]
  },
  {
   "cell_type": "code",
   "execution_count": null,
   "metadata": {},
   "outputs": [],
   "source": []
  },
  {
   "cell_type": "markdown",
   "metadata": {},
   "source": [
    "## 💡 Concept shift\n",
    "\n",
    "![concept shift](../../docs/images/concept_shift.png)"
   ]
  },
  {
   "cell_type": "code",
   "execution_count": null,
   "metadata": {},
   "outputs": [],
   "source": []
  }
 ],
 "metadata": {
  "kernelspec": {
   "display_name": "streamgen-WTmPm9Y--py3.11",
   "language": "python",
   "name": "python3"
  },
  "language_info": {
   "codemirror_mode": {
    "name": "ipython",
    "version": 3
   },
   "file_extension": ".py",
   "mimetype": "text/x-python",
   "name": "python",
   "nbconvert_exporter": "python",
   "pygments_lexer": "ipython3",
   "version": "3.11.2"
  }
 },
 "nbformat": 4,
 "nbformat_minor": 2
}
